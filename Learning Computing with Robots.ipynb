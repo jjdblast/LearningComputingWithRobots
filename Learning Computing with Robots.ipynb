{
 "metadata": {
  "name": "",
  "signature": "sha256:8282b43851253585ce72340e742f5c1b2d635f61a5cfd723fe049268129d8bd6"
 },
 "nbformat": 3,
 "nbformat_minor": 0,
 "worksheets": [
  {
   "cells": [
    {
     "cell_type": "heading",
     "level": 1,
     "metadata": {},
     "source": [
      "Learning Computing with Robots"
     ]
    },
    {
     "cell_type": "heading",
     "level": 3,
     "metadata": {},
     "source": [
      "Edited by Deepak Kumar"
     ]
    },
    {
     "cell_type": "heading",
     "level": 5,
     "metadata": {},
     "source": [
      "Institute for Personal Robots in Education"
     ]
    },
    {
     "cell_type": "markdown",
     "metadata": {},
     "source": [
      "http://www.roboteducation.org"
     ]
    },
    {
     "cell_type": "markdown",
     "metadata": {},
     "source": [
      "<img style = \"width:300; align:left;\" src = \"http://www.roboteducation.org/images/header_home.jpg\">"
     ]
    },
    {
     "cell_type": "markdown",
     "metadata": {},
     "source": [
      "This text is provided as is with no guarantees of any kind. \n",
      "\n",
      "Permission is hereby granted to reproduce facsimiles of this text in any form for distribution provided an e-mail note is sent to the editor at dkumar@cs.brynmawr.edu describing the manner and intended purpose of distribution. \n",
      "\n",
      "Permission is also granted to modify the content of this text in any manner seemed desirable by instructors. We recommend that all derivations from this text be distributed through IPRE in the same manner as this text. To obtain the permission we require the same process as laid out for distribution above.\n",
      "\n",
      "We strongly recommend distributing the text and its modifications with a not for profit motive.\n",
      "\n",
      "We are making this text available in the manner described above so as to enable the widest possible accessibility of the content as well as the ideas illustrated in this text. We hope that users will respect and honor and promote such practices with their own works.\n",
      "\n",
      "We have taken great care to attribute all images used in this text to their original sources. This text is intended for educational purposes and such use constitutes fair use. Where feasible, we have obtained permissions to use copyrighted images. Please contact the editor in case there are any pending issues in this regard. All images not explicitly attributed in the text are created by members of the IPRE team.\n",
      "\n",
      "IPRE is supported in part by grants from Microsoft Research Corp., the National Science Foundation grants NSF-DUE 0920539 and CCF-0939370, Georgia Institute of Technology, and Bryn Mawr College. We sincerely thank them for all their support.\n",
      "\n",
      "This version was produced in June, 2014.\n"
     ]
    },
    {
     "cell_type": "markdown",
     "metadata": {},
     "source": [
      "# Tables of Contents #\n",
      "\n",
      "[Preface](Preface.ipynb)\n",
      "\n",
      "[Chapter 1](Chapter%201.ipynb): The World of Robots\n",
      "\n",
      "[Chapter 2](Chapter%202.ipynb): Personal Robots\n",
      "\n",
      "[Chapter 3](Chapter%203.ipynb): Building Robot Brains\n"
     ]
    },
    {
     "cell_type": "markdown",
     "metadata": {},
     "source": [
      "#Contributors#\n",
      "\n",
      "IPRE was created to explore the use of personal robots in education with \n",
      "primary funding from Microsoft Research, Georgia Institute of \n",
      "Technology, and Bryn Mawr College. This text would not have been \n",
      "possible without the hardware, software, and course materials developed \n",
      "by members of the IPRE team. \n",
      "\n",
      "- Ben Axelrod, Georgia Institute of Technology\n",
      "- Tucker Balch, Georgia Institute of Technology \n",
      "- JoseSaid Becera Paloma, Universidad Manuela Beltran (Colombia) \n",
      "- Douglas Blank, Bryn Mawr College \n",
      "- Natasha Eilbert, Bryn Mawr College \n",
      "- Frank L. Friedman, Temple University \n",
      "- Ashley Gavin, Bryn Mawr College \n",
      "- Gaurav Gupta, Georgia Institute of Technology \n",
      "- Mansi Gupta, Bryn Mawr College \n",
      "- Mark Guzdial, Georgia Institute of Technology \n",
      "- Douglas Harms, DePauw University \n",
      "- Ali Irturk, University of California, San Diego \n",
      "- Jared Jackson, Microsoft Research \n",
      "- Ben Johnson, Georgia Institute of Technology \n",
      "- Jennifer S. Kay, Rowan University \n",
      "- Julia Kelly, Bryn Mawr College \n",
      "- Deepak Kumar, Bryn Mawr College \n",
      "- Bruce MacLennan, University of Tennessee-Knoxville \n",
      "- Marwa Nur Muhammad, Bryn Mawr College \n",
      "- Keith O\u2019Hara, Bard College \n",
      "- Jennifer Kay, Rowan University \n",
      "- Shikha Prashad, Bryn Mawr College \n",
      "- Richard Roberts, Georgia Institute of Technology \n",
      "- Mark Russo, Bristol-Myers Squibb \n",
      "- Ying Ying Sheng, Bryn Mawr College\n",
      "- Jay Summet, Georgia Institute of Technology \n",
      "- Monica Sweat, Georgia Institute of Technology \n",
      "- Stewart Tansley, Microsoft Research \n",
      "- Teyvonia Thomas, University of Pennsylvania \n",
      "- Daniel Walker, Georgia Institute of Technology \n",
      "- Henry Walker, Grinnell College\u00a0"
     ]
    },
    {
     "cell_type": "code",
     "collapsed": false,
     "input": [],
     "language": "python",
     "metadata": {},
     "outputs": []
    }
   ],
   "metadata": {}
  }
 ]
}