{
 "metadata": {
  "name": "",
  "signature": "sha256:6d8f640de77f1570bc33cb75b9a8ecb47a70e8a5f7127907a5b371e9c57e2881"
 },
 "nbformat": 3,
 "nbformat_minor": 0,
 "worksheets": [
  {
   "cells": [
    {
     "cell_type": "markdown",
     "metadata": {},
     "source": [
      "This text is provided as is with no guarantees of any kind. \n",
      "\n",
      "Permission is hereby granted to reproduce facsimiles of this text in any form for distribution provided an e-mail note is sent to the editor at dkumar@cs.brynmawr.edu describing the manner and intended purpose of distribution. \n",
      "\n",
      "Permission is also granted to modify the content of this text in any manner seemed desirable by instructors. We recommend that all derivations from this text be distributed through IPRE in the same manner as this text. To obtain the permission we require the same process as laid out for distribution above.\n",
      "\n",
      "We strongly recommend distributing the text and its modifications with a not for profit motive.\n",
      "\n",
      "We are making this text available in the manner described above so as to enable the widest possible accessibility of the content as well as the ideas illustrated in this text. We hope that users will respect and honor and promote such practices with their own works.\n",
      "\n",
      "We have taken great care to attribute all images used in this text to their original sources. This text is intended for educational purposes and such use constitutes fair use. Where feasible, we have obtained permissions to use copyrighted images. Please contact the editor in case there are any pending issues in this regard. All images not explicitly attributed in the text are created by members of the IPRE team.\n",
      "\n",
      "IPRE is supported in part by grants from Microsoft Research Corp., the National Science Foundation grants NSF-DUE 0920539 and CCF-0939370, Georgia Institute of Technology, and Bryn Mawr College. We sincerely thank them for all their support.\n",
      "\n",
      "This version was produced in June, 2014."
     ]
    }
   ],
   "metadata": {}
  }
 ]
}