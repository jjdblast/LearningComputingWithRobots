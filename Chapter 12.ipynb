{
 "metadata": {
  "name": "",
  "signature": "sha256:b6cd357dae3156ffcddbacd88199e109dfdadf75ccc5c57dfb758cc254b82c1e"
 },
 "nbformat": 3,
 "nbformat_minor": 0,
 "worksheets": [
  {
   "cells": [
    {
     "cell_type": "markdown",
     "metadata": {},
     "source": [
      "<table><tr><td>Previous: [Chapter 11](Chapter 11.ipynb)</td><td>[Learning Computing with Robots](Learning Computing with Robots.ipynb)</td><td>Next: [Python Overview](Python Overview.ipynb)</td></tr></table>\n",
      "\n",
      "<hr size=\"3\">"
     ]
    },
    {
     "cell_type": "heading",
     "level": 1,
     "metadata": {},
     "source": [
      "12: Fast, Cheap & Out of Control"
     ]
    },
    {
     "cell_type": "markdown",
     "metadata": {},
     "source": [
      "<div style=\"float:right;width:270px;padding:20px;\">\n",
      "<img src = \"chap12i1full.png\" width = \"250px\"><br>\n",
      "Orb Swarms\n",
      "Used with permission, Copyright Phil Spitler (http://www.orbswarm.com)\n",
      "</div>\n",
      "\n",
      ">*We suggest that within a few years it will be possible at*\n",
      ">*modest cost to invade a planet with millions of tiny robots...*\n",
      ">*With imagination and nerve we can invade the whole solar system.* \n",
      ">>*Fast, cheap and out of control: A robot invasion of the solar system*,<br>\n",
      ">>Rodney Brooks and Anita M. Flynn,<br>\n",
      ">>Journal of the British Interplanetary Society, Volume 42, pp 478-485, 1989.\n",
      "\n"
     ]
    },
    {
     "cell_type": "markdown",
     "metadata": {},
     "source": [
      "Nearly two decades ago, Brooks and Flynn laid out a radical vision for the future that, on July 4, 1997, resulted in successful landing of Sojourner rover on the surface of Mars. A few years later, in 2004, two rovers Spirit and Opportunity arrived on Mars to explore the planet. In 2002, in his book, Flesh and Machines, a more reflective Rodney Brooks confesses to his exuberance in making the comments in his paper with Anita Flynn and describes the rovers as planetary ambassadors. The vision put forward by Brooks and Flynn was to replace a single large 1000 kilogram rover by 100 smaller 1 kilogram rovers to explore planetary surfaces. The smaller robots would move much faster and could be built much cheaper and mass produced. They will also offer much needed redundancy in case of occasional robot failure which in the case of a single larger robot would lead to total mission failure. Moreover, each individual robot would be autonomous (i.e. out of human control) operating on its own agenda as defined in its control program. \n",
      "\n",
      "It is debatable whether Brooks actually coined the phrase, *fast, cheap and out of control*. But the credit for using it in the title of their landmark paper followed by the deployment of three rovers on Mars led to its widespread use in popular culture. The phrase became the title of a 1997 documentary movie by Errol Morris in which Brooks himself was featured. In his 2002 book, Brooks recounts how a scientist at NASA\u2019s Jet Propulsion Laboratory lambasted the idea of fast, cheap, and autonomous rovers. While the original dream of 100 small, autonomous robots remains to be realized, today one would find it hard to argue against the idea. We have used Brooks\u2019 phrase in the title of this chapter to suggest that less than twenty years from the coining of the phrase we are in the thick of exploring the full potential of small, cheap, personal robots. Given that several million personal robots have already been sold, we could conclude that our planet itself has been invaded by them. Brooks says that, \"the robotics revolution is in its nascent stage, set to burst over us in the early part of the twenty-first century.\" In this chapter we present several examples of the ways robots are becoming a part of our everyday lives.\n"
     ]
    },
    {
     "cell_type": "heading",
     "level": 2,
     "metadata": {},
     "source": [
      "Robots are mechanisms guided by automated control"
     ]
    },
    {
     "cell_type": "markdown",
     "metadata": {},
     "source": [
      "We accepted the above definition for robots in the beginning of this text. Using the Scribbler robot we have also learned much about its mechanisms: sensors and motors; and how to control them via Python programs. In the course of this journey we have learned valuable lessons in building different kinds of robot brains, how to design insect-like behaviors, create sounds, images, and also ventured briefly into the realm of Artificial Intelligence. Computing lies at the heart of defining automated control. Any robot, no matter how small or large, has sensing and motor mechanisms and its behavior can be programmed to enable it to act autonomously in its environment. It is important to keep this in mind as we explore the various dimensions of the robotics spectrum. \n",
      "\n",
      "<div style=\"float:right;width:220px;padding:20px;\"><img src = \"chap12i2full.png\" width = \"2000px\"></div>\n",
      "\n",
      "The range of applications for robots is nearly as diverse as the world we live in. In fact, it is limited only by our own imagination. Throughout this text we have presented examples of robots in several domains: planetary rovers, vacuum cleaners, explorers in hazardous environments, toys and entertainment, education, medical surgery, manufacturing, etc. Below, we present additional interesting examples of the use of robot technology. It will be important, as we explore some of these examples, to try and use your understanding from this text to figure out what mechanisms are in use in each case. Try to think about possible other areas where similar mechanisms could be out to use."
     ]
    },
    {
     "cell_type": "heading",
     "level": 2,
     "metadata": {},
     "source": [
      "Toys"
     ]
    },
    {
     "cell_type": "markdown",
     "metadata": {},
     "source": [
      "<div style=\"float:right;width:170px;padding:20px;\"><img src = \"chap12i3full.png\" width = \"150px\"></div>\n",
      "\n",
      "Simple robotic toys are everywhere. Some actually look and behave like robots but most of them use computing and robotics technology in simple and innovative ways. Take for example the Tengu, designed by Crispin Jones (tengutengutengu.com). Tengu plugs into your computer\u2019s USB port. It is capable of displaying over a dozen mouth shapes. It is designed to react to sound and music in its environment. Facial/mouth expressions change depending upon the sounds heard. If you sing a song or if there is music playing, it will appear to lip-sync to it."
     ]
    },
    {
     "cell_type": "markdown",
     "metadata": {},
     "source": [
      "<div style=\"float:right;width:170px;padding:20px;\"><img src = \"chap12i4full.png\" width = \"150px\"></div>\n",
      "\n",
      "Desktop robotic toys are increasing in popularity for several reasons. The enabling technology is the presence of a computer with a USB port. The USB ports are unique in that in addition to providing channels for exchange of data (like we do in communicating with the Scribbler) they can also provide power. Many toys, like Tengu, use the USB port only for the power. All the controls are built into the Tengu unit. \n",
      "\n",
      "Some desktop toys can run independent of a computer (all the controls are present in the unit itself) and yet do not require any batteries: they run on solar power. The Flip Flap flowers and plants made by the TOMY Company (http://www.tomy.com) are good examples. These toys incorporate very simple mechanisms: solar sensing and power generation coupled with small motors that are activated by the electric current. These are simple, yet clever, and entertaining Braitenberg creatures. The TOMY Company has a whole line of products that employ these ideas."
     ]
    },
    {
     "cell_type": "markdown",
     "metadata": {},
     "source": [
      "<div style=\"float:right;width:70px;padding:20px;\"><img src = \"chap12i5full.png\" width = \"50px\"></div>\n",
      "\n",
      "There are also plenty of battery operated desktop robotic toys. The Facebank designed by Takada \u201ceats\u201d a coin when you flash it in front of its eyes. It runs on batteries and its mechanism includes IR sensors, similar to the ones on the Scribbler and a motor that drives or pushes the \u201cskin\u201d of the face from behind.\n",
      "\n",
      "Most electronic educational toys employ programmed automated control mechanisms. An interesting educational toy is the Tag Reading Pen made by Leapfrog (http://leapfrog.com/tag). A child can use the pen to point on words or text on specially made story books and the pen speaks out the word or the entire sentence. Designed for pre-school kids who are just getting interested in reading, such a toy can enhance a child\u2019s reading and pronunciation abilities. The pen has an optical reader and a speaker coupled with a memory that records a child\u2019s reading patterns. Parents can plug the pen into a computer to download and track their child\u2019s progress."
     ]
    },
    {
     "cell_type": "markdown",
     "metadata": {},
     "source": [
      "<div style=\"float:right;width:170px;padding:20px;\"><img src = \"chap12i6full.png\" width = \"150px\"><br>\n",
      "<small><b>Why do you make this thing?</b>\n",
      "Because there are not nearly enough beeping, zapping, bixxerfouping, anthropomorphic synthesizer monsters in the world.<br>\n",
      "From: FAQ on http://bleeplabs.com</small>\n",
      "</div>\n",
      "\n",
      "\n",
      "Robots need not be constructed out of digital mechanisms. One can also create control mechanisms using analog circuitry. The picture on the right shows devices called Thingamapoops (bleeplabs.com). What do they do? They can be used to produce or synthesize crazy sounding beeps. The beeps can also be sent as inputs to standard musical instruments for creating even more bizarre sound effects."
     ]
    },
    {
     "cell_type": "heading",
     "level": 2,
     "metadata": {},
     "source": [
      "Art"
     ]
    },
    {
     "cell_type": "markdown",
     "metadata": {},
     "source": [
      "\n",
      "<div style=\"float:right;width:170px;padding:20px;\"><img src = \"chap12i7full.png\" width = \"150px\"></div>\n",
      "\n",
      "\n",
      "Robots have been actively used in creating all kinds of art and robots themselves have been the subject of art. There are several organizations worldwide that are devoted to creating art with robots and robotic devices. In this book you have also experimented with the Scribbler drawings. A couple of nice examples of robots creating artwork are illustrated in the works of Swiss engineers J\u00fcrg Lehni and Uli Franke who created the Hektor graffiti drawing robot (http://hector.ch) at the School of Art in Lousanne, and Zefrank (http://zefrank.com) who has created two versions of a robot he calls Scribbler which is different from the robot you have. "
     ]
    },
    {
     "cell_type": "markdown",
     "metadata": {},
     "source": [
      "<div style=\"float:right;width:170px;padding:20px;\"><img src = \"chap12i8full.png\" width = \"150px\"></div>\n",
      "Both Hektor and Scribbler create new drawings based on an existing drawing. A drawing is first created. The robot (program) reads the drawing and then embellishes a new drawing based on the one input. Hektor is mounted on the wall and has a spray can that moves on a system of robot controlled pulleys. The graffiti shown here on left was painted by Hektor. You can visit Lehni and Franke\u2019s web site to view movies of the robot in action. Scribbler uses basic sketches as the basis for creating drawings. In the picture shown here, three sketches are shown that were created based on the one in the top left corner. The Scribbler concept is interesting in that anyone can go and use it via the web to create drawings in a web browser. The creators have also constructed a physical robot that makes actual drawings.\n",
      "\n",
      "**Do This:** Write a program that samples or scans an image and creates a graphics drawing based on that. Read the details provided on the Scribbler web site and use it to create some sketches. Watch the process of drawing and think about how you might create something similar."
     ]
    },
    {
     "cell_type": "heading",
     "level": 2,
     "metadata": {},
     "source": [
      "Show me the way"
     ]
    },
    {
     "cell_type": "markdown",
     "metadata": {},
     "source": [
      "Global positioning systems (GPS) have been in use for many years now. More recently, small portable GPS devices have become available for use in consumer cars. A GPS enables you to enter a destination or a point of interest and then it plots a route for you to take. It provides real-time map-based turn-by-turn guidance. The technology used in these devices uses mechanisms that involve satellite signals and street maps. These devices also form the core of autopilot mechanisms in an airplane. An airplane operating in autopilot mode can be considered a robot by our definition. Over 90% take-offs and landings of commercial flights these days are done using autopilot systems. You may have also read about robotic surveillance drones that are used by the army to spy on enemy territories. Unmanned guided missiles use similar devices. The technology also exists today to create autopilot systems in cars. That is, it is possible for your car to drive itself to wherever you\u2019d like it to go. In some of these applications, the questions of technology deployment become more social and ethical: Do we really want these or not? What are the implications?"
     ]
    },
    {
     "cell_type": "heading",
     "level": 2,
     "metadata": {},
     "source": [
      "Affective & Social Robots"
     ]
    },
    {
     "cell_type": "markdown",
     "metadata": {},
     "source": [
      "<div style=\"float:right;width:170px;padding:20px;\"><img src = \"chap12i9full.png\" width = \"150px\"></div>\n",
      "\n",
      "In Chapter 10 we mentioned that one of the challenges of AI research is to understand and/or artificially create human-level embodied intelligence. Many AI researchers work on advancing the state of understanding human intelligence while many others are working on building smarter, more intelligent models of behaviors. At the same time the field of robotics itself is rapidly moving in the direction of more capable, agile, and human-like robots. A good, fun way to find convergence of these advances can be seen in the goals of the RoboCup (www.robotcup.org). The RoboCup organization is focusing on soccer playing robots as a test bed for AI and robotics. They hold yearly robot soccer playing competitions that include, besides two-legged humanoids, four-legged and wheeled robot soccer players. \n",
      "\n",
      "Besides, soccer playing robots, another area of AI and robotics research that is gathering momentum is Human-Robot Interaction (HRI). As the name suggests it is an area of research that is studying models of interaction between humans and robots. Given that we already have millions of robots amongst us, it is important to recognize the need for creating friendlier ways of interacting with robots. While we are of the opinion that every citizen of this planet should be well versed in programming and computation we also recognize that we are nowhere near that goal. As we mentioned several times earlier soon there will be more computers than people on this planet. Perhaps robots will also follow? Nevertheless the need for friendlier interactions with computers has always been recognized. With the rapid increase in the number of robot-based applications it would be even more imperative for robots, especially given their physical presence, to have socially relevant behavior traits. If not for any other reason, it would make it easier for people to accept them into our society and many levels.\n"
     ]
    },
    {
     "cell_type": "markdown",
     "metadata": {},
     "source": [
      "<div style=\"float:right;width:220px;padding:20px;\"><img src = \"chap12i10full.png\" width = \"200px\">\n",
      "<small>iCat is a research platform for studying human-robot interaction topics. The robot is 38 cm tall and is equipped with 13 servos that control different parts of the face, such as the eyebrows, eyes, eyelids, mouth and head position. With this setup iCat can generate many different facial expressions - happy, surprise, angry, sad - that are needed to create social human-robot interaction dialogues.<br>\n",
      "From: http://research.philips.com</small>\n",
      "</div>\n",
      "\n",
      "Within HRI researchers are studying models of emotion, gesture recognition, and other social modalities. Emotive robots have been studied in many applications that range from toys to medical therapy (we mentioned the Paro seal robot in Chapter 1). Given the interest and recent advances in the area of HRI a new field of research has emerged: social robotics. Social robotics studies models that take into account social norms of behavior relevant to the environment and/or application of the robot. Emotions can play an important role in this area of research. Within the relatively small community of researchers there is much debate about whether social robotics requires one to have a physical robot. Simulated agents acting socially are acceptable to some researchers but not to others. Take for example the simulated robotic agent Ananova (www.ananova.com). Ananova was designed to deliver news over the web just as a news anchor might on TV. While it is not a physically embodied robot, it has the simulated morphology of a human and is capable of using the same models of emotion and expression that are designed for embodied robots. In fact, given the physical limitations of robots, the simulation is far more realistic (see picture on right)."
     ]
    },
    {
     "cell_type": "markdown",
     "metadata": {},
     "source": [
      "<div style=\"float:right;width:170px;padding:20px;\"><img src = \"chap12i11full.png\" width = \"150px\">\n",
      "<small>Ananova News reader\n",
      "(http://www.ananova.com)</small>\n",
      "</div>\n",
      "\n",
      "We do not want to leave you with a picture of the iCat as a representative image of physical robots capable of emotional expression. In the late 1990\u2019s Cynthia Breazeal and Brian Scassellati developed a sociable robot, Kismet, to explore expressions and basic human-robot interactions. Both Breazeal and Scassellati are former students of Rodney Brooks and have been active in HRI research. Breazeal\u2019s current efforts in affective computing are based on the robot, Nexi (see picture below) which was developed at MIT in collaboration with University of Massachusetts and other corporate partners."
     ]
    },
    {
     "cell_type": "markdown",
     "metadata": {},
     "source": [
      "<div style=\"float:right;width:320px;padding:20px;\"><img src = \"chap12i12full.png\" width = \"300px\">\n",
      "<small>\n",
      "A new experimental robot from the MIT Media Lab can slant its eyebrows in anger, or raise them in surprise, and show a wide assortment of facial expressions to communicate with people in human-centric terms. Called Nexi, it is aimed at a range of applications for personal robots and human-robot teamwork.<br>\n",
      "From: David Chandler, MIT News Office, April 2008.\n",
      "</small></div>\n",
      "\n",
      "Brian Scassellati is developing a humanoid robot at Yale University that is roughly the size of a 1-year old child. The robot is being used to explore more fundamental developmental tasks like hand-eye coordination. It is also being used to enhance the diagnosis of autism in children. Brian and his colleagues postulate that the social cues that a robot needs to detect and learn are the very cues that are deficient in autistics children. They also think that such robots can be used to create functional models of autistic behavior. \n",
      "\n",
      "Autonomous robots are already in use delivering daily mail in large offices. You can easily imagine the same technology being used for building roaming vending machines. One can already configure an office espresso maker to make coffee based on each individual\u2019s preferences: the machine senses you (or devices you wear) which transmit your preferences to the machine and it gets to work. The possibilities are endless. We conclude here with another novel application: Here is problem description (from: http://www.koert.com/work):"
     ]
    },
    {
     "cell_type": "markdown",
     "metadata": {},
     "source": [
      "<div style=\"float:right;width:270px;padding:20px;\"><img src = \"chap12i13full.png\" width = \"250px\">\n",
      "</div>\n",
      "\n",
      "*In the morning paper, I can read the weather report as well as the stock quotes. But when I look out of my window I only get a weather update and no stock exchange info. Could someone please fix this bug in my environmental system? Thanks!*\n",
      "\n",
      "The solution: Data Fountain\n",
      "\n",
      "Designed by Koert van Minsvoort, Charles Mignot and their colleagues, the Data Fountain uses the environment to display real time data. They designed the system to map currency rates to the height of the fountains. They call this idea information decoration. You do not have to restrict yourself to computer screens and displays for visualizing information. The actual realization of the concept employs robotics or device control technology that obtains real time currency data from the web and then transforms it into the actuation of fountain jets."
     ]
    },
    {
     "cell_type": "heading",
     "level": 2,
     "metadata": {},
     "source": [
      "Summary"
     ]
    },
    {
     "cell_type": "markdown",
     "metadata": {},
     "source": [
      "Robots have been used to clean up hazardous substances, removal of mines, and even unclog deep sewage systems in large cities. They are increasingly finding applications in unusual situations: exploring small passageways in ancient pyramids, medical surgery, and even farming. Researchers are developing intelligent agricultural vehicles to monitor crops, plant diseases, and general growing conditions. While it may be acceptable and even desirable to have a robot that vacuums your house, or even clean up streets, one has to pause and wonder if the same technology can be used for destructive purposes. Invariably, like it is with any new technology, there are benefits as well as potential for misuse. Social and ethical concerns have to be taken into consideration to make sound decisions in all circumstances.\n",
      "\n",
      "Robots are getting fast, small, cheap, and autonomous. However, it is only in the sense of autonomy that makes them desirable to be out of control. We may not yet have sent hundreds of small robots to another plant but we surely seem to be surrounded by millions of them here on earth. The picture of orb-like robots on a landscape comes from the Orb Swarm project (orbswarm.com). They are exploring using swarms of these robots coordinating and exploring and interacting with their environment similar to the vision of Brooks and Flynn. Whether we are successful in sending armies of orb-like robots to another planet still remains to be seen. Though one thing is for sure: it makes learning computing a whole lot more fun with a personal robot!\n"
     ]
    },
    {
     "cell_type": "markdown",
     "metadata": {},
     "source": [
      "<hr size=\"3\">\n",
      "\n",
      "<table><tr><td>Previous: [Chapter 11](Chapter 11.ipynb)</td><td>[Learning Computing with Robots](Learning Computing with Robots.ipynb)</td><td>Next: [Python Overview](Python Overview.ipynb)</td></tr></table>\n"
     ]
    }
   ],
   "metadata": {}
  }
 ]
}